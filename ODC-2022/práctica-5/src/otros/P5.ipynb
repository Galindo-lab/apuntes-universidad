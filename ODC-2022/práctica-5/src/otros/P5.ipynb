{
  "nbformat": 4,
  "nbformat_minor": 0,
  "metadata": {
    "colab": {
      "provenance": [],
      "collapsed_sections": []
    },
    "kernelspec": {
      "name": "python3",
      "display_name": "Python 3"
    },
    "language_info": {
      "name": "python"
    }
  },
  "cells": [
    {
      "cell_type": "markdown",
      "source": [
        "# Se utiliza el símbolo de exlamación (!) para poder ingresar comandos de Linux.\n",
        "\n",
        "# Primero, instalamos el ensamblador, NASM."
      ],
      "metadata": {
        "id": "-ZEY_yOwkQtj"
      }
    },
    {
      "cell_type": "code",
      "execution_count": 1,
      "metadata": {
        "colab": {
          "base_uri": "https://localhost:8080/"
        },
        "id": "BkPNmo65j9BB",
        "outputId": "34b325f8-0a52-48df-ddda-a4e20c004aa4"
      },
      "outputs": [
        {
          "output_type": "stream",
          "name": "stdout",
          "text": [
            "Reading package lists... Done\n",
            "Building dependency tree       \n",
            "Reading state information... Done\n",
            "The following package was automatically installed and is no longer required:\n",
            "  libnvidia-common-460\n",
            "Use 'sudo apt autoremove' to remove it.\n",
            "The following NEW packages will be installed:\n",
            "  nasm\n",
            "0 upgraded, 1 newly installed, 0 to remove and 32 not upgraded.\n",
            "Need to get 359 kB of archives.\n",
            "After this operation, 2,831 kB of additional disk space will be used.\n",
            "Get:1 http://archive.ubuntu.com/ubuntu bionic/universe amd64 nasm amd64 2.13.02-0.1 [359 kB]\n",
            "Fetched 359 kB in 1s (483 kB/s)\n",
            "debconf: unable to initialize frontend: Dialog\n",
            "debconf: (No usable dialog-like program is installed, so the dialog based frontend cannot be used. at /usr/share/perl5/Debconf/FrontEnd/Dialog.pm line 76, <> line 1.)\n",
            "debconf: falling back to frontend: Readline\n",
            "debconf: unable to initialize frontend: Readline\n",
            "debconf: (This frontend requires a controlling tty.)\n",
            "debconf: falling back to frontend: Teletype\n",
            "dpkg-preconfigure: unable to re-open stdin: \n",
            "Selecting previously unselected package nasm.\n",
            "(Reading database ... 155685 files and directories currently installed.)\n",
            "Preparing to unpack .../nasm_2.13.02-0.1_amd64.deb ...\n",
            "Unpacking nasm (2.13.02-0.1) ...\n",
            "Setting up nasm (2.13.02-0.1) ...\n",
            "Processing triggers for man-db (2.8.3-2ubuntu0.1) ...\n"
          ]
        }
      ],
      "source": [
        "!sudo apt-get install nasm"
      ]
    },
    {
      "cell_type": "markdown",
      "source": [
        "# Comprobar que NASM fue instalado correctamente"
      ],
      "metadata": {
        "id": "XAggHM3XlyFu"
      }
    },
    {
      "cell_type": "code",
      "source": [
        "!nasm -v"
      ],
      "metadata": {
        "colab": {
          "base_uri": "https://localhost:8080/"
        },
        "id": "5DyevW9ikPeQ",
        "outputId": "7e722a9d-5d28-4a61-c6be-7f25b255040c"
      },
      "execution_count": null,
      "outputs": [
        {
          "output_type": "stream",
          "name": "stdout",
          "text": [
            "NASM version 2.13.02\n"
          ]
        }
      ]
    },
    {
      "cell_type": "code",
      "source": [],
      "metadata": {
        "id": "zYIq9RqznjFY"
      },
      "execution_count": null,
      "outputs": []
    }
  ]
}